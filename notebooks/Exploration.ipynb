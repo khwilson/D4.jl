{
 "cells": [
  {
   "cell_type": "code",
   "execution_count": 1,
   "metadata": {
    "collapsed": false
   },
   "outputs": [],
   "source": [
    "push!(LOAD_PATH, \"/Users/kevin/github/d4\")\n",
    "using D4\n",
    "using Iterators"
   ]
  },
  {
   "cell_type": "code",
   "execution_count": 2,
   "metadata": {
    "collapsed": false
   },
   "outputs": [],
   "source": [
    "jumppoints = []\n",
    "prev = 0\n",
    "\n",
    "for max_D in 2:1000\n",
    "    #@printf \"--------- %d --------\\n\" max_D\n",
    "    total = 0\n",
    "    total_D = 0\n",
    "\n",
    "    for D in -max_D:max_D\n",
    "        if length(D4.sqfactor(D)) == 0\n",
    "            continue\n",
    "        end\n",
    "        upper_bound = div(max_D, D^2)\n",
    "        if sqrt(upper_bound) < 1\n",
    "            continue\n",
    "        end\n",
    "        total_D += 1\n",
    "        total += D4.Cohen.N(D, upper_bound)\n",
    "    end\n",
    "    if total != prev\n",
    "        push!(jumppoints, (max_D, total-prev))\n",
    "        prev = total\n",
    "    end\n",
    "end"
   ]
  },
  {
   "cell_type": "code",
   "execution_count": 3,
   "metadata": {
    "collapsed": false
   },
   "outputs": [
    {
     "name": "stdout",
     "output_type": "stream",
     "text": [
      "(117,2)\n",
      "(125,1)\n",
      "(128,1)\n",
      "(144,3)\n",
      "(189,2)\n",
      "(225,2)\n",
      "(256,6)\n",
      "(272,2)\n",
      "(275,2)\n",
      "(320,2)\n",
      "(333,2)\n",
      "(392,4)\n",
      "(400,4)\n",
      "(432,2)\n",
      "(441,2)\n",
      "(448,2)\n",
      "(475,2)\n",
      "(507,2)\n",
      "(512,2)\n",
      "(513,2)\n",
      "(549,2)\n",
      "(576,4)\n",
      "(605,2)\n",
      "(640,2)\n",
      "(656,2)\n",
      "(657,2)\n",
      "(725,2)\n",
      "(775,2)\n",
      "(784,7)\n",
      "(832,2)\n",
      "(837,2)\n",
      "(873,2)\n",
      "(981,2)\n"
     ]
    }
   ],
   "source": [
    "for x in jumppoints\n",
    "    println(x)\n",
    "end\n"
   ]
  },
  {
   "cell_type": "code",
   "execution_count": 4,
   "metadata": {
    "collapsed": false
   },
   "outputs": [
    {
     "data": {
      "text/plain": [
       "\"These should be the jumpoints. Note the differences\\n\\n117 2\\n125 1\\n144 3\\n189 2\\n225 3\\n256 3\\n272 2\\n275 2\\n320 2\\n333 2\\n392 2\\n400 3\\n400 2\\n432 2\\n441 3\\n448 2\\n475 2\\n507 2\\n512 2\\n513 2\\n549 2\\n576 3\\n576 3\\n605 2\\n656 2\\n657 2\\n725 2\\n775 2\\n784 3\\n832 2\\n837 2\\n873 2\\n981 2\\n\""
      ]
     },
     "execution_count": 4,
     "metadata": {},
     "output_type": "execute_result"
    }
   ],
   "source": [
    "\"\"\"\n",
    "These should be the jumpoints. Note the differences\n",
    "\n",
    "117 2\n",
    "125 1\n",
    "144 3\n",
    "189 2\n",
    "225 3\n",
    "256 3\n",
    "272 2\n",
    "275 2\n",
    "320 2\n",
    "333 2\n",
    "392 2\n",
    "400 3\n",
    "400 2\n",
    "432 2\n",
    "441 3\n",
    "448 2\n",
    "475 2\n",
    "507 2\n",
    "512 2\n",
    "513 2\n",
    "549 2\n",
    "576 3\n",
    "576 3\n",
    "605 2\n",
    "656 2\n",
    "657 2\n",
    "725 2\n",
    "775 2\n",
    "784 3\n",
    "832 2\n",
    "837 2\n",
    "873 2\n",
    "981 2\n",
    "\"\"\""
   ]
  }
 ],
 "metadata": {
  "kernelspec": {
   "display_name": "Julia 0.4.6",
   "language": "julia",
   "name": "julia-0.4"
  },
  "language_info": {
   "file_extension": ".jl",
   "mimetype": "application/julia",
   "name": "julia",
   "version": "0.4.6"
  }
 },
 "nbformat": 4,
 "nbformat_minor": 0
}
