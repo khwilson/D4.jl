{
 "cells": [
  {
   "cell_type": "markdown",
   "metadata": {},
   "source": [
    "# Actually computing the value\n",
    "\n",
    "In this notebook, we use our work computing L1 and L2 values to actually compute our constant"
   ]
  },
  {
   "cell_type": "code",
   "execution_count": 33,
   "metadata": {
    "collapsed": true
   },
   "outputs": [],
   "source": [
    "import csv\n",
    "import json\n",
    "import math\n",
    "\n",
    "l1_filename = 'l1_values'\n",
    "l2_filename = 'l2_values'"
   ]
  },
  {
   "cell_type": "code",
   "execution_count": 34,
   "metadata": {
    "collapsed": true
   },
   "outputs": [],
   "source": [
    "with open(l1_filename, 'r') as f:\n",
    "    l1_values = json.load(f)\n",
    "    l1_values = {int(key): value for key, value in l1_values.items()}\n",
    "    \n",
    "\n",
    "with open(l2_filename, 'r') as f:\n",
    "    reader = csv.reader(f)\n",
    "    l2_values = {}\n",
    "    for line in reader:\n",
    "        l2_values[int(line[0])] = float(line[1])"
   ]
  },
  {
   "cell_type": "code",
   "execution_count": 35,
   "metadata": {
    "collapsed": false
   },
   "outputs": [
    {
     "data": {
      "text/plain": [
       "True"
      ]
     },
     "execution_count": 35,
     "metadata": {},
     "output_type": "execute_result"
    }
   ],
   "source": [
    "# Validate that the set of L2 values makes sense\n",
    "min_l2_value = min(l2_values)\n",
    "max_l2_value = max(l2_values)\n",
    "set(l2_values.keys()) == {key for key in l1_values if min_l2_value <= key <= max_l2_value}"
   ]
  },
  {
   "cell_type": "code",
   "execution_count": 38,
   "metadata": {
    "collapsed": false
   },
   "outputs": [
    {
     "data": {
      "text/plain": [
       "0.10920196440594017"
      ]
     },
     "execution_count": 38,
     "metadata": {},
     "output_type": "execute_result"
    }
   ],
   "source": [
    "sum(l1_values[disc] / l2_values[disc] / abs(disc) for disc in l2_values if disc > -10000) / math.pi ** 2 / math.log(abs(min_l2_value)) * 6 / 2"
   ]
  },
  {
   "cell_type": "code",
   "execution_count": 45,
   "metadata": {
    "collapsed": false
   },
   "outputs": [
    {
     "name": "stdout",
     "output_type": "stream",
     "text": [
      "0.10920196440594017\n",
      "0.1162676338351944\n",
      "0.12040863747461386\n",
      "0.12333846499880805\n",
      "0.12561056666369513\n",
      "0.12747241365311557\n",
      "0.12904853691837814\n",
      "0.13040589941252081\n",
      "0.13160637471583855\n"
     ]
    }
   ],
   "source": [
    "for max_disc in range(-10000, -95000, -10000):\n",
    "    print(sum(l1_values[disc] / l2_values[disc] / abs(disc) for disc in l2_values if disc > max_disc) / math.pi ** 2 / math.log(abs(min_l2_value)) * 6 / 2)"
   ]
  },
  {
   "cell_type": "code",
   "execution_count": 37,
   "metadata": {
    "collapsed": false
   },
   "outputs": [
    {
     "data": {
      "text/plain": [
       "-96143"
      ]
     },
     "execution_count": 37,
     "metadata": {},
     "output_type": "execute_result"
    }
   ],
   "source": [
    "min_l2_value"
   ]
  },
  {
   "cell_type": "code",
   "execution_count": null,
   "metadata": {
    "collapsed": true
   },
   "outputs": [],
   "source": []
  }
 ],
 "metadata": {
  "kernelspec": {
   "display_name": "Python 3",
   "language": "python",
   "name": "python3"
  },
  "language_info": {
   "codemirror_mode": {
    "name": "ipython",
    "version": 3
   },
   "file_extension": ".py",
   "mimetype": "text/x-python",
   "name": "python",
   "nbconvert_exporter": "python",
   "pygments_lexer": "ipython3",
   "version": "3.5.2"
  }
 },
 "nbformat": 4,
 "nbformat_minor": 0
}
